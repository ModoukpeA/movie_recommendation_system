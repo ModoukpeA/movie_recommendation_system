{
 "cells": [
  {
   "cell_type": "code",
   "execution_count": 1,
   "id": "traditional-catering",
   "metadata": {},
   "outputs": [],
   "source": [
    "import pandas as pd\n",
    "import numpy as np\n",
    "from matplotlib import pyplot as plt\n",
    "import seaborn as sns\n",
    "from sklearn.feature_extraction.text import TfidfVectorizer\n",
    "from sklearn.metrics.pairwise import linear_kernel"
   ]
  },
  {
   "cell_type": "code",
   "execution_count": 109,
   "id": "still-pottery",
   "metadata": {},
   "outputs": [
    {
     "data": {
      "text/html": [
       "<div>\n",
       "<style scoped>\n",
       "    .dataframe tbody tr th:only-of-type {\n",
       "        vertical-align: middle;\n",
       "    }\n",
       "\n",
       "    .dataframe tbody tr th {\n",
       "        vertical-align: top;\n",
       "    }\n",
       "\n",
       "    .dataframe thead th {\n",
       "        text-align: right;\n",
       "    }\n",
       "</style>\n",
       "<table border=\"1\" class=\"dataframe\">\n",
       "  <thead>\n",
       "    <tr style=\"text-align: right;\">\n",
       "      <th></th>\n",
       "      <th>show_id</th>\n",
       "      <th>type</th>\n",
       "      <th>title</th>\n",
       "      <th>director</th>\n",
       "      <th>cast</th>\n",
       "      <th>country</th>\n",
       "      <th>date_added</th>\n",
       "      <th>release_year</th>\n",
       "      <th>rating</th>\n",
       "      <th>duration</th>\n",
       "      <th>listed_in</th>\n",
       "      <th>description</th>\n",
       "    </tr>\n",
       "  </thead>\n",
       "  <tbody>\n",
       "    <tr>\n",
       "      <th>5453</th>\n",
       "      <td>s5454</td>\n",
       "      <td>Movie</td>\n",
       "      <td>Sebastian Maniscalco: Stay Hungry</td>\n",
       "      <td>Rik Reinholdtsen</td>\n",
       "      <td>Sebastian Maniscalco</td>\n",
       "      <td>United States</td>\n",
       "      <td>January 15, 2019</td>\n",
       "      <td>2019</td>\n",
       "      <td>TV-MA</td>\n",
       "      <td>65 min</td>\n",
       "      <td>Stand-Up Comedy</td>\n",
       "      <td>Sebastian Maniscalco brings an acerbically uni...</td>\n",
       "    </tr>\n",
       "    <tr>\n",
       "      <th>5454</th>\n",
       "      <td>s5455</td>\n",
       "      <td>Movie</td>\n",
       "      <td>Sebastian Maniscalco: What's Wrong with People?</td>\n",
       "      <td>Manny Rodriguez</td>\n",
       "      <td>Sebastian Maniscalco</td>\n",
       "      <td>United States</td>\n",
       "      <td>September 17, 2019</td>\n",
       "      <td>2012</td>\n",
       "      <td>TV-MA</td>\n",
       "      <td>76 min</td>\n",
       "      <td>Stand-Up Comedy</td>\n",
       "      <td>With his uproarious tirade on modern behavior ...</td>\n",
       "    </tr>\n",
       "    <tr>\n",
       "      <th>5455</th>\n",
       "      <td>s5456</td>\n",
       "      <td>Movie</td>\n",
       "      <td>Sebastian Maniscalco: Why Would You Do That</td>\n",
       "      <td>Joe DeMaio</td>\n",
       "      <td>Sebastian Maniscalco</td>\n",
       "      <td>United States</td>\n",
       "      <td>August 6, 2019</td>\n",
       "      <td>2016</td>\n",
       "      <td>TV-MA</td>\n",
       "      <td>63 min</td>\n",
       "      <td>Stand-Up Comedy</td>\n",
       "      <td>Sebastian Maniscalco delivers an expressive st...</td>\n",
       "    </tr>\n",
       "    <tr>\n",
       "      <th>5456</th>\n",
       "      <td>s5457</td>\n",
       "      <td>TV Show</td>\n",
       "      <td>Second 20s</td>\n",
       "      <td>NaN</td>\n",
       "      <td>Choi Ji-woo, Lee Sang-yun, Choi Won-young, Kim...</td>\n",
       "      <td>South Korea</td>\n",
       "      <td>October 16, 2019</td>\n",
       "      <td>2015</td>\n",
       "      <td>TV-14</td>\n",
       "      <td>1 Season</td>\n",
       "      <td>International TV Shows, Korean TV Shows, Roman...</td>\n",
       "      <td>Facing major changes, a mother realizes it's t...</td>\n",
       "    </tr>\n",
       "    <tr>\n",
       "      <th>5457</th>\n",
       "      <td>s5458</td>\n",
       "      <td>Movie</td>\n",
       "      <td>Secret</td>\n",
       "      <td>Jay Chou</td>\n",
       "      <td>Jay Chou, Lun-Mei Kwai, Anthony Wong Chau-Sang...</td>\n",
       "      <td>Hong Kong, Taiwan</td>\n",
       "      <td>July 1, 2018</td>\n",
       "      <td>2007</td>\n",
       "      <td>TV-PG</td>\n",
       "      <td>101 min</td>\n",
       "      <td>Dramas, International Movies, Music &amp; Musicals</td>\n",
       "      <td>Enchanted by a pretty pianist and the haunting...</td>\n",
       "    </tr>\n",
       "  </tbody>\n",
       "</table>\n",
       "</div>"
      ],
      "text/plain": [
       "     show_id     type                                            title  \\\n",
       "5453   s5454    Movie                Sebastian Maniscalco: Stay Hungry   \n",
       "5454   s5455    Movie  Sebastian Maniscalco: What's Wrong with People?   \n",
       "5455   s5456    Movie      Sebastian Maniscalco: Why Would You Do That   \n",
       "5456   s5457  TV Show                                       Second 20s   \n",
       "5457   s5458    Movie                                           Secret   \n",
       "\n",
       "              director                                               cast  \\\n",
       "5453  Rik Reinholdtsen                               Sebastian Maniscalco   \n",
       "5454   Manny Rodriguez                               Sebastian Maniscalco   \n",
       "5455        Joe DeMaio                               Sebastian Maniscalco   \n",
       "5456               NaN  Choi Ji-woo, Lee Sang-yun, Choi Won-young, Kim...   \n",
       "5457          Jay Chou  Jay Chou, Lun-Mei Kwai, Anthony Wong Chau-Sang...   \n",
       "\n",
       "                country          date_added  release_year rating  duration  \\\n",
       "5453      United States    January 15, 2019          2019  TV-MA    65 min   \n",
       "5454      United States  September 17, 2019          2012  TV-MA    76 min   \n",
       "5455      United States      August 6, 2019          2016  TV-MA    63 min   \n",
       "5456        South Korea    October 16, 2019          2015  TV-14  1 Season   \n",
       "5457  Hong Kong, Taiwan        July 1, 2018          2007  TV-PG   101 min   \n",
       "\n",
       "                                              listed_in  \\\n",
       "5453                                    Stand-Up Comedy   \n",
       "5454                                    Stand-Up Comedy   \n",
       "5455                                    Stand-Up Comedy   \n",
       "5456  International TV Shows, Korean TV Shows, Roman...   \n",
       "5457     Dramas, International Movies, Music & Musicals   \n",
       "\n",
       "                                            description  \n",
       "5453  Sebastian Maniscalco brings an acerbically uni...  \n",
       "5454  With his uproarious tirade on modern behavior ...  \n",
       "5455  Sebastian Maniscalco delivers an expressive st...  \n",
       "5456  Facing major changes, a mother realizes it's t...  \n",
       "5457  Enchanted by a pretty pianist and the haunting...  "
      ]
     },
     "execution_count": 109,
     "metadata": {},
     "output_type": "execute_result"
    }
   ],
   "source": [
    "df = pd.read_csv('netflix_titles.csv')\n",
    "df.iloc[5453:5458,:]"
   ]
  },
  {
   "cell_type": "code",
   "execution_count": 3,
   "id": "widespread-strain",
   "metadata": {},
   "outputs": [
    {
     "name": "stdout",
     "output_type": "stream",
     "text": [
      "<class 'pandas.core.frame.DataFrame'>\n",
      "RangeIndex: 7787 entries, 0 to 7786\n",
      "Data columns (total 12 columns):\n",
      " #   Column        Non-Null Count  Dtype \n",
      "---  ------        --------------  ----- \n",
      " 0   show_id       7787 non-null   object\n",
      " 1   type          7787 non-null   object\n",
      " 2   title         7787 non-null   object\n",
      " 3   director      5398 non-null   object\n",
      " 4   cast          7069 non-null   object\n",
      " 5   country       7280 non-null   object\n",
      " 6   date_added    7777 non-null   object\n",
      " 7   release_year  7787 non-null   int64 \n",
      " 8   rating        7780 non-null   object\n",
      " 9   duration      7787 non-null   object\n",
      " 10  listed_in     7787 non-null   object\n",
      " 11  description   7787 non-null   object\n",
      "dtypes: int64(1), object(11)\n",
      "memory usage: 730.2+ KB\n"
     ]
    }
   ],
   "source": [
    "df.info()"
   ]
  },
  {
   "cell_type": "code",
   "execution_count": 4,
   "id": "structural-accent",
   "metadata": {},
   "outputs": [
    {
     "data": {
      "text/plain": [
       "show_id         7787\n",
       "type               2\n",
       "title           7787\n",
       "director        4049\n",
       "cast            6831\n",
       "country          681\n",
       "date_added      1565\n",
       "release_year      73\n",
       "rating            14\n",
       "duration         216\n",
       "listed_in        492\n",
       "description     7769\n",
       "dtype: int64"
      ]
     },
     "execution_count": 4,
     "metadata": {},
     "output_type": "execute_result"
    }
   ],
   "source": [
    "df.nunique()"
   ]
  },
  {
   "cell_type": "code",
   "execution_count": 5,
   "id": "sized-swift",
   "metadata": {},
   "outputs": [
    {
     "data": {
      "text/plain": [
       "show_id            0\n",
       "type               0\n",
       "title              0\n",
       "director        2389\n",
       "cast             718\n",
       "country          507\n",
       "date_added        10\n",
       "release_year       0\n",
       "rating             7\n",
       "duration           0\n",
       "listed_in          0\n",
       "description        0\n",
       "dtype: int64"
      ]
     },
     "execution_count": 5,
     "metadata": {},
     "output_type": "execute_result"
    }
   ],
   "source": [
    "df.isna().sum()"
   ]
  },
  {
   "cell_type": "code",
   "execution_count": 6,
   "id": "tracked-voluntary",
   "metadata": {},
   "outputs": [],
   "source": [
    "tfidf_vectorizer = TfidfVectorizer(stop_words = 'english')"
   ]
  },
  {
   "cell_type": "code",
   "execution_count": 7,
   "id": "governmental-psychology",
   "metadata": {},
   "outputs": [],
   "source": [
    "df['description'] = df['description'].fillna('')"
   ]
  },
  {
   "cell_type": "code",
   "execution_count": 8,
   "id": "focused-eligibility",
   "metadata": {},
   "outputs": [
    {
     "data": {
      "text/plain": [
       "(7787, 17905)"
      ]
     },
     "execution_count": 8,
     "metadata": {},
     "output_type": "execute_result"
    }
   ],
   "source": [
    "tfidf_matrix = tfidf_vectorizer.fit_transform(df['description'])\n",
    "tfidf_matrix.shape"
   ]
  },
  {
   "cell_type": "code",
   "execution_count": 9,
   "id": "harmful-corpus",
   "metadata": {},
   "outputs": [],
   "source": [
    "cosine_similarity = linear_kernel(tfidf_matrix,tfidf_matrix)"
   ]
  },
  {
   "cell_type": "code",
   "execution_count": 76,
   "id": "australian-memorial",
   "metadata": {},
   "outputs": [],
   "source": [
    "movies = df[['title']]"
   ]
  },
  {
   "cell_type": "code",
   "execution_count": 68,
   "id": "excellent-grove",
   "metadata": {},
   "outputs": [
    {
     "data": {
      "text/html": [
       "<div>\n",
       "<style scoped>\n",
       "    .dataframe tbody tr th:only-of-type {\n",
       "        vertical-align: middle;\n",
       "    }\n",
       "\n",
       "    .dataframe tbody tr th {\n",
       "        vertical-align: top;\n",
       "    }\n",
       "\n",
       "    .dataframe thead th {\n",
       "        text-align: right;\n",
       "    }\n",
       "</style>\n",
       "<table border=\"1\" class=\"dataframe\">\n",
       "  <thead>\n",
       "    <tr style=\"text-align: right;\">\n",
       "      <th></th>\n",
       "      <th>title</th>\n",
       "    </tr>\n",
       "  </thead>\n",
       "  <tbody>\n",
       "    <tr>\n",
       "      <th>0</th>\n",
       "      <td>3%</td>\n",
       "    </tr>\n",
       "    <tr>\n",
       "      <th>1</th>\n",
       "      <td>7:19</td>\n",
       "    </tr>\n",
       "    <tr>\n",
       "      <th>2</th>\n",
       "      <td>23:59</td>\n",
       "    </tr>\n",
       "    <tr>\n",
       "      <th>3</th>\n",
       "      <td>9</td>\n",
       "    </tr>\n",
       "    <tr>\n",
       "      <th>4</th>\n",
       "      <td>21</td>\n",
       "    </tr>\n",
       "  </tbody>\n",
       "</table>\n",
       "</div>"
      ],
      "text/plain": [
       "   title\n",
       "0     3%\n",
       "1   7:19\n",
       "2  23:59\n",
       "3      9\n",
       "4     21"
      ]
     },
     "execution_count": 68,
     "metadata": {},
     "output_type": "execute_result"
    }
   ],
   "source": [
    "movies.head()"
   ]
  },
  {
   "cell_type": "code",
   "execution_count": 101,
   "id": "concrete-comfort",
   "metadata": {},
   "outputs": [
    {
     "data": {
      "text/plain": [
       "title\n",
       "3%       0\n",
       "7:19     1\n",
       "23:59    2\n",
       "9        3\n",
       "21       4\n",
       "dtype: int64"
      ]
     },
     "execution_count": 101,
     "metadata": {},
     "output_type": "execute_result"
    }
   ],
   "source": [
    "movies = pd.Series(df.index,index=df['title'])\n",
    "movies.head()"
   ]
  },
  {
   "cell_type": "code",
   "execution_count": 102,
   "id": "thrown-quality",
   "metadata": {},
   "outputs": [],
   "source": [
    "def get_movie_recommendations(title, cosine_similarity=cosine_similarity):\n",
    "    index=movies[title]\n",
    "    similarity_scores=list(enumerate(cosine_similarity[index]))\n",
    "    similarity_scores=sorted(similarity_scores, key=lambda x:x[1], reverse=True)\n",
    "    similarity_scores=similarity_scores[1:11]\n",
    "    movie_indices = [i[0] for i in similarity_scores]\n",
    "    return df['title'].iloc[movie_indices]"
   ]
  },
  {
   "cell_type": "code",
   "execution_count": 117,
   "id": "departmental-clearing",
   "metadata": {},
   "outputs": [
    {
     "data": {
      "text/plain": [
       "2676                                      Heartbreak High\n",
       "4332    My Little Pony Equestria Girls: Legend of Ever...\n",
       "7415                                               Victor\n",
       "5753                                         Spider-Man 3\n",
       "3958         Marvel & ESPN Films Present: 1 of 1: Genesis\n",
       "2375                                            Gentefied\n",
       "3576                         LEGENDS OF THE HIDDEN TEMPLE\n",
       "2104                                         Family Blood\n",
       "7192                            Transformers: Rescue Bots\n",
       "5281                                                Roped\n",
       "Name: title, dtype: object"
      ]
     },
     "execution_count": 117,
     "metadata": {},
     "output_type": "execute_result"
    }
   ],
   "source": [
    "get_movie_recommendations('Spider-Man: Into the Spider-Verse')"
   ]
  }
 ],
 "metadata": {
  "kernelspec": {
   "display_name": "Python 3",
   "language": "python",
   "name": "python3"
  },
  "language_info": {
   "codemirror_mode": {
    "name": "ipython",
    "version": 3
   },
   "file_extension": ".py",
   "mimetype": "text/x-python",
   "name": "python",
   "nbconvert_exporter": "python",
   "pygments_lexer": "ipython3",
   "version": "3.7.10"
  }
 },
 "nbformat": 4,
 "nbformat_minor": 5
}
